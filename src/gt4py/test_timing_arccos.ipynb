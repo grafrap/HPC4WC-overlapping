{
 "cells": [
  {
   "cell_type": "markdown",
   "id": "a1f86af2-561b-42fe-9430-45edc20ad0be",
   "metadata": {},
   "source": [
    "# TEST timing arccos with gt4py"
   ]
  },
  {
   "cell_type": "code",
   "execution_count": 1,
   "id": "dc7fbdf1-5f4d-4f50-aea2-f482ec4009ee",
   "metadata": {},
   "outputs": [],
   "source": [
    "import os\n",
    "import gt4py.next as gtx\n",
    "from gt4py.next.ffront.fbuiltins import arccos\n",
    "import numpy as np"
   ]
  },
  {
   "cell_type": "code",
   "execution_count": 2,
   "id": "c08d9742-9602-4dbf-8729-d2b7b83c421c",
   "metadata": {},
   "outputs": [],
   "source": [
    "gt4py_prog_path = os.getcwd()\n",
    "ref_data_path = \"/\".join(gt4py_prog_path.split(\"/\")[:-2] + [\"build\", \"data\", \"ref_data.npz\"])"
   ]
  },
  {
   "cell_type": "code",
   "execution_count": 3,
   "id": "2dc06c2d-9b46-4949-8e2e-9de5748492b7",
   "metadata": {},
   "outputs": [],
   "source": [
    "file = np.load(ref_data_path)"
   ]
  },
  {
   "cell_type": "code",
   "execution_count": 4,
   "id": "c411e84c-ac0f-4b8e-9e16-2c7528bc33e1",
   "metadata": {},
   "outputs": [],
   "source": [
    "I = gtx.Dimension(\"I\")\n",
    "J = gtx.Dimension(\"J\")\n",
    "K = gtx.Dimension(\"K\")\n",
    "IField = gtx.Field[gtx.Dims[I], gtx.float64]\n",
    "IJKField = gtx.Field[gtx.Dims[I, J, K], gtx.float64]"
   ]
  },
  {
   "cell_type": "code",
   "execution_count": 5,
   "id": "dbc33745-def9-4bb0-92d1-b9cbc168acf5",
   "metadata": {},
   "outputs": [
    {
     "data": {
      "text/plain": [
       "array([0.83780304, 1.27465707, 1.17722935, ..., 2.16029659, 1.66456644,\n",
       "       1.27790004], shape=(100000000,))"
      ]
     },
     "metadata": {},
     "output_type": "display_data"
    },
    {
     "data": {
      "text/plain": [
       "array([ 0.66909717,  0.29182971,  0.38348511, ..., -0.5559457 ,\n",
       "       -0.09363275,  0.28872637], shape=(100000000,))"
      ]
     },
     "metadata": {},
     "output_type": "display_data"
    }
   ],
   "source": [
    "ref_np = file[\"ref\"]\n",
    "x_np = file[\"x\"]\n",
    "display(ref_np, x_np)\n",
    "\n",
    "assert(len(x_np.shape) == 1)\n",
    "domain_all = gtx.domain({\n",
    "    I: (0, x_np.shape[0]),\n",
    "})"
   ]
  },
  {
   "cell_type": "code",
   "execution_count": 6,
   "id": "97c429fd-6a08-4f42-886a-e57e00f1ddb1",
   "metadata": {},
   "outputs": [],
   "source": [
    "@gtx.field_operator\n",
    "def arccos_once(x: IField) -> IField:\n",
    "    return arccos(x)\n",
    "\n",
    "@gtx.field_operator\n",
    "def arccos_twice(x: IField) -> IField:\n",
    "    return arccos(arccos(x))\n",
    "\n",
    "@gtx.field_operator\n",
    "def arccos_three_times(x: IField) -> IField:\n",
    "    return arccos(arccos(arccos(x)))\n",
    "\n",
    "@gtx.field_operator\n",
    "def arccos_four_times(x: IField) -> IField:\n",
    "    return arccos(arccos(arccos(arccos(x))))"
   ]
  },
  {
   "cell_type": "code",
   "execution_count": 47,
   "id": "2a839fb7-4c4a-4343-b12c-c779ba3e9731",
   "metadata": {},
   "outputs": [],
   "source": [
    "# dir(gtx)\n"
   ]
  },
  {
   "cell_type": "code",
   "execution_count": 58,
   "id": "b91332f4-5e85-45d5-ae75-ce465cb19c47",
   "metadata": {},
   "outputs": [
    {
     "data": {
      "text/plain": [
       "dtype('float64')"
      ]
     },
     "execution_count": 58,
     "metadata": {},
     "output_type": "execute_result"
    }
   ],
   "source": [
    "np.random.rand(8).dtype"
   ]
  },
  {
   "cell_type": "code",
   "execution_count": 51,
   "id": "c50154cf-caa0-4b84-8304-7ec76e53abce",
   "metadata": {},
   "outputs": [],
   "source": [
    "# backend = None\n",
    "# backend = gtx.gtfn_cpu\n",
    "backend = gtx.gtfn_gpu\n",
    "gtx_arccos = arccos_once.with_backend(backend)\n",
    "\n",
    "ref = gtx.as_field(data=ref_np, domain=domain_all, allocator=backend)\n",
    "x = gtx.as_field(data=x_np, domain=domain_all, allocator=backend)\n",
    "\n",
    "out_field = gtx.empty(domain=domain_all, dtype=x.dtype, allocator=backend)"
   ]
  },
  {
   "cell_type": "code",
   "execution_count": 52,
   "id": "1c166205-1922-44c0-a3d6-93653b5a05e3",
   "metadata": {},
   "outputs": [
    {
     "name": "stdout",
     "output_type": "stream",
     "text": [
      "1.91 ms ± 10.8 μs per loop (mean ± std. dev. of 7 runs, 100 loops each)\n"
     ]
    }
   ],
   "source": [
    "%timeit gtx_arccos(x=x, out=out_field, domain=domain_all)"
   ]
  },
  {
   "cell_type": "code",
   "execution_count": 53,
   "id": "3acd409e-7c1b-449e-993e-ef3f5009db49",
   "metadata": {},
   "outputs": [
    {
     "data": {
      "text/plain": [
       "array([ True,  True,  True, ...,  True,  True,  True], shape=(100000000,))"
      ]
     },
     "execution_count": 53,
     "metadata": {},
     "output_type": "execute_result"
    }
   ],
   "source": [
    "ref_np == out_field.asnumpy()"
   ]
  },
  {
   "cell_type": "code",
   "execution_count": 54,
   "id": "df756a8b-1e34-476c-9a4b-24f7fd55d763",
   "metadata": {},
   "outputs": [
    {
     "data": {
      "text/plain": [
       "np.False_"
      ]
     },
     "execution_count": 54,
     "metadata": {},
     "output_type": "execute_result"
    }
   ],
   "source": [
    "np.all(ref_np == out_field.asnumpy())"
   ]
  },
  {
   "cell_type": "code",
   "execution_count": 57,
   "id": "3e53ba79-4f18-40ea-bf49-d20b37e3ceee",
   "metadata": {},
   "outputs": [
    {
     "data": {
      "text/plain": [
       "np.True_"
      ]
     },
     "execution_count": 57,
     "metadata": {},
     "output_type": "execute_result"
    }
   ],
   "source": [
    "np.isclose(ref_np, out_field.asnumpy()).all()"
   ]
  },
  {
   "cell_type": "code",
   "execution_count": 9,
   "id": "e987a6a0-e1bb-4673-9613-09af2d1ed213",
   "metadata": {},
   "outputs": [],
   "source": [
    "# backend = None\n",
    "backend = gtx.gtfn_cpu\n",
    "# backend = gtx.gtfn_gpu\n",
    "gtx_arccos_cpu = arccos_once.with_backend(gtx.gtfn_cpu)\n",
    "gtx_arccos_gpu = arccos_once.with_backend(gtx.gtfn_gpu)\n",
    "\n",
    "x_cpu = gtx.as_field(data=x_np, domain=domain_all, allocator=gtx.gtfn_cpu)\n",
    "x_gpu = gtx.as_field(data=x_np, domain=domain_all, allocator=gtx.gtfn_gpu)\n",
    "out_field_cpu = gtx.empty(domain=domain_all, dtype=x.dtype, allocator=gtx.gtfn_cpu)\n",
    "out_field_gpu = gtx.empty(domain=domain_all, dtype=x.dtype, allocator=gtx.gtfn_gpu)"
   ]
  },
  {
   "cell_type": "code",
   "execution_count": 18,
   "id": "ee40e024-312f-47e9-bb0f-be2794c43883",
   "metadata": {},
   "outputs": [
    {
     "name": "stdout",
     "output_type": "stream",
     "text": [
      "14.2 ms ± 661 μs per loop (mean ± std. dev. of 7 runs, 100 loops each)\n"
     ]
    }
   ],
   "source": [
    "%timeit gtx_arccos_cpu(x=x_cpu, out=out_field_cpu, domain=domain_all)"
   ]
  },
  {
   "cell_type": "code",
   "execution_count": 19,
   "id": "6ec476c7-784b-4b51-8755-4dbd9ce573fc",
   "metadata": {},
   "outputs": [
    {
     "name": "stdout",
     "output_type": "stream",
     "text": [
      "1.98 ms ± 5.28 μs per loop (mean ± std. dev. of 7 runs, 100 loops each)\n"
     ]
    }
   ],
   "source": [
    "%timeit gtx_arccos_gpu(x=x_gpu, out=out_field_gpu, domain=domain_all)"
   ]
  },
  {
   "cell_type": "code",
   "execution_count": 31,
   "id": "45053653-d410-46a0-a046-e7c468c18a99",
   "metadata": {},
   "outputs": [
    {
     "name": "stdout",
     "output_type": "stream",
     "text": [
      "Average time per run: 0.001981 seconds\n"
     ]
    }
   ],
   "source": [
    "import timeit\n",
    "n_reps = 100\n",
    "execution_time = timeit.timeit(\"gtx_arccos_gpu(x=x_gpu, out=out_field_gpu, domain=domain_all)\", globals=globals(), number=n_reps)\n",
    "print(f\"Average time per run: {execution_time / n_reps:.6f} seconds\")"
   ]
  },
  {
   "cell_type": "code",
   "execution_count": 32,
   "id": "f8f5fb62-9bf9-4236-8d99-85087285fb1d",
   "metadata": {},
   "outputs": [
    {
     "name": "stdout",
     "output_type": "stream",
     "text": [
      "Average time per run: 0.001949 seconds\n"
     ]
    }
   ],
   "source": [
    "import timeit\n",
    "number = 100 # inner loop reps\n",
    "repeats = 10 # timings (outer loop)\n",
    "times = timeit.repeat(\"gtx_arccos_gpu(x=x_gpu, out=out_field_gpu, domain=domain_all)\", globals=globals(), repeat=repeats, number=number)\n",
    "mean_time, std_time = np.mean(times), np.std(times)\n",
    "print(f\"Average time per run: {mean_time / number:.6f} seconds\")"
   ]
  },
  {
   "cell_type": "code",
   "execution_count": null,
   "id": "1fb1c19e-1046-4331-813d-1a417d16b0fb",
   "metadata": {},
   "outputs": [],
   "source": []
  },
  {
   "cell_type": "code",
   "execution_count": 39,
   "id": "7a3f01d1-b507-4f7b-8094-f356229b9aa0",
   "metadata": {},
   "outputs": [],
   "source": [
    "import timeit\n",
    "import statistics\n",
    "import cupy as cp  # Required for GPU sync\n",
    "\n",
    "def gt4py_timeit(func, *args, number=10, repeat=5, warm_up=1, synchronize=True, **kwargs):\n",
    "    \"\"\"\n",
    "    Time a GT4Py function with optional GPU synchronization.\n",
    "    \n",
    "    Args:\n",
    "        func: Function to time.\n",
    "        *args, **kwargs: Arguments to pass to the function.\n",
    "        number: How many executions per timing batch.\n",
    "        repeat: How many timing batches.\n",
    "        synchronize: If True, synchronize GPU before/after timing.\n",
    "\n",
    "    Returns:\n",
    "        mean_time_per_exec: Mean execution time (seconds).\n",
    "        std_time_per_exec: Standard deviation (seconds).\n",
    "        all_times: List of per-execution times (seconds).\n",
    "    \"\"\"\n",
    "    times = []\n",
    "\n",
    "    for _ in range(repeat + warm_up):\n",
    "        if synchronize:\n",
    "            cp.cuda.Device(0).synchronize()\n",
    "\n",
    "        start = timeit.default_timer()\n",
    "\n",
    "        for _ in range(number):\n",
    "            func(*args, **kwargs)\n",
    "\n",
    "        if synchronize:\n",
    "            cp.cuda.Device(0).synchronize()\n",
    "\n",
    "        end = timeit.default_timer()\n",
    "        times.append((end - start) / number)  # Per-execution time\n",
    "\n",
    "    for k in range(warm_up):\n",
    "        print(\"    \", times[k])\n",
    "    times = times[warm_up:]\n",
    "    mean_time = np.mean(times)\n",
    "    std_time = np.std(times)\n",
    "\n",
    "    print(f\"{func.__name__} mean time per execution: {mean_time:.6e} s ± {std_time:.6e} s over {repeat} repeats with {warm_up} warmups\")\n",
    "\n",
    "    return mean_time, std_time, times\n"
   ]
  },
  {
   "cell_type": "code",
   "execution_count": 41,
   "id": "3f9989f4-1287-4ef5-9525-71e7cd2d9a63",
   "metadata": {},
   "outputs": [
    {
     "name": "stdout",
     "output_type": "stream",
     "text": [
      "     0.00201899686944671\n",
      "arccos_once mean time per execution: 1.956682e-03 s ± 4.218620e-06 s over 10 repeats with 1 warmups\n"
     ]
    },
    {
     "data": {
      "text/plain": [
       "(np.float64(0.0019566818167222663),\n",
       " np.float64(4.218620336337162e-06),\n",
       " [0.0019582394894678144,\n",
       "  0.0019630511791910977,\n",
       "  0.001954908079933375,\n",
       "  0.0019531244598329067,\n",
       "  0.0019576862291432917,\n",
       "  0.00195556181948632,\n",
       "  0.001962093450129032,\n",
       "  0.001957561440067366,\n",
       "  0.0019572142499964685,\n",
       "  0.0019473777699749917])"
      ]
     },
     "execution_count": 41,
     "metadata": {},
     "output_type": "execute_result"
    }
   ],
   "source": [
    "gt4py_timeit(gtx_arccos_gpu, number=number, repeat=repeats, warm_up=1, synchronize=True, x=x_gpu, out=out_field_gpu, domain=domain_all)\n"
   ]
  },
  {
   "cell_type": "code",
   "execution_count": null,
   "id": "ae0e0038-aaad-4f58-832e-b2d7a9eea2c2",
   "metadata": {},
   "outputs": [],
   "source": []
  },
  {
   "cell_type": "code",
   "execution_count": 13,
   "id": "66a1fe79-4382-479d-9617-9528feb16bf4",
   "metadata": {},
   "outputs": [],
   "source": [
    "import time\n",
    "import cupy as cp"
   ]
  },
  {
   "cell_type": "code",
   "execution_count": 14,
   "id": "f138e812-8fd0-4104-8a53-69dad0e07511",
   "metadata": {},
   "outputs": [],
   "source": [
    "# time manually:\n",
    "tic = time.perf_counter()\n",
    "gtx_arccos_gpu(x=x_gpu, out=out_field_gpu, domain=domain_all)\n",
    "cp.cuda.runtime.deviceSynchronize()\n",
    "toc = time.perf_counter()"
   ]
  },
  {
   "cell_type": "code",
   "execution_count": 15,
   "id": "14938d66-55fa-4d7f-9e58-3ef47405d2a1",
   "metadata": {},
   "outputs": [
    {
     "data": {
      "text/plain": [
       "0.005055260029621422"
      ]
     },
     "execution_count": 15,
     "metadata": {},
     "output_type": "execute_result"
    }
   ],
   "source": [
    "toc-tic"
   ]
  },
  {
   "cell_type": "code",
   "execution_count": null,
   "id": "1ca8d559-ed2f-40a6-ab11-dbee1456e05a",
   "metadata": {},
   "outputs": [],
   "source": []
  },
  {
   "cell_type": "code",
   "execution_count": null,
   "id": "645f59e6-f85a-4cc8-8ed6-f4091421032a",
   "metadata": {},
   "outputs": [],
   "source": []
  },
  {
   "cell_type": "code",
   "execution_count": null,
   "id": "995d2855-beaa-4293-b179-7e9d2c38c06b",
   "metadata": {},
   "outputs": [],
   "source": []
  },
  {
   "cell_type": "code",
   "execution_count": 1,
   "id": "426dfb53-c3dc-4d68-b8b4-46fa15dc4a91",
   "metadata": {},
   "outputs": [
    {
     "data": {
      "text/plain": [
       "'/users/class182/project-overlapping/src/gt4py'"
      ]
     },
     "execution_count": 1,
     "metadata": {},
     "output_type": "execute_result"
    }
   ],
   "source": [
    "import os\n",
    "os.getcwd()"
   ]
  },
  {
   "cell_type": "code",
   "execution_count": 2,
   "id": "d107bed3-bc4e-4bbb-94d7-ee029da1b2cb",
   "metadata": {},
   "outputs": [
    {
     "data": {
      "text/plain": [
       "['.gt4py_cache',\n",
       " '.ipynb_checkpoints',\n",
       " 'TEMP_arccos.ipynb',\n",
       " '__pycache__',\n",
       " 'arccos_gt4py.py',\n",
       " 'run_arccos_gt4py.py',\n",
       " 'run_arccos_gt4py.sh']"
      ]
     },
     "execution_count": 2,
     "metadata": {},
     "output_type": "execute_result"
    }
   ],
   "source": [
    "os.listdir()"
   ]
  },
  {
   "cell_type": "code",
   "execution_count": 6,
   "id": "132ceba9-1821-44cd-a6f9-bc0375281e87",
   "metadata": {},
   "outputs": [
    {
     "data": {
      "text/plain": [
       "['.gt4py_cache',\n",
       " '.ipynb_checkpoints',\n",
       " 'TEMP_arccos.ipynb',\n",
       " '__pycache__',\n",
       " 'arccos_gt4py.py',\n",
       " 'run_arccos_gt4py.py',\n",
       " 'run_arccos_gt4py.sh']"
      ]
     },
     "execution_count": 6,
     "metadata": {},
     "output_type": "execute_result"
    }
   ],
   "source": [
    "os.listdir(\"../../build/gt4py/\")"
   ]
  },
  {
   "cell_type": "code",
   "execution_count": 7,
   "id": "3af22942-80ad-4947-bedb-00a77fcc2409",
   "metadata": {},
   "outputs": [
    {
     "data": {
      "text/plain": [
       "True"
      ]
     },
     "execution_count": 7,
     "metadata": {},
     "output_type": "execute_result"
    }
   ],
   "source": [
    "os.path.isfile(\"../../build/gt4py/run_arccos_gt4py.py\")"
   ]
  },
  {
   "cell_type": "code",
   "execution_count": 28,
   "id": "cf97b57c-48e0-401e-b631-751cd47eacc9",
   "metadata": {},
   "outputs": [
    {
     "name": "stdout",
     "output_type": "stream",
     "text": [
      "allocators \n",
      "backend \n",
      "common \n",
      "config \n",
      "constructors \n",
      "embedded (package)\n",
      "errors (package)\n",
      "ffront (package)\n",
      "field_utils \n",
      "iterator (package)\n",
      "metrics \n",
      "otf (package)\n",
      "program_processors (package)\n",
      "type_system (package)\n",
      "utils \n"
     ]
    }
   ],
   "source": [
    "import pkgutil\n",
    "import gt4py\n",
    "\n",
    "for loader, module_name, is_pkg in pkgutil.iter_modules(gt4py.next.__path__):\n",
    "    print(f\"{module_name} {'(package)' if is_pkg else ''}\")\n"
   ]
  },
  {
   "cell_type": "code",
   "execution_count": null,
   "id": "f6a3f9c4-429b-4d2d-afe3-7698ac346a8d",
   "metadata": {},
   "outputs": [],
   "source": []
  }
 ],
 "metadata": {
  "kernelspec": {
   "display_name": "HPC4WC_kernel",
   "language": "python",
   "name": "hpc4wc_kernel"
  },
  "language_info": {
   "codemirror_mode": {
    "name": "ipython",
    "version": 3
   },
   "file_extension": ".py",
   "mimetype": "text/x-python",
   "name": "python",
   "nbconvert_exporter": "python",
   "pygments_lexer": "ipython3",
   "version": "3.12.5"
  }
 },
 "nbformat": 4,
 "nbformat_minor": 5
}
