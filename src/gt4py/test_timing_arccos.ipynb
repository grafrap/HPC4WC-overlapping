{
 "cells": [
  {
   "cell_type": "markdown",
   "id": "a1f86af2-561b-42fe-9430-45edc20ad0be",
   "metadata": {},
   "source": [
    "# TEST timing arccos with gt4py"
   ]
  },
  {
   "cell_type": "code",
   "execution_count": 35,
   "id": "24b5abb7-7802-4c16-b102-79b9bc4906dc",
   "metadata": {},
   "outputs": [],
   "source": [
    "import sys"
   ]
  },
  {
   "cell_type": "code",
   "execution_count": 1,
   "id": "63331e25-a831-4d6a-ac11-59525671ff9c",
   "metadata": {},
   "outputs": [],
   "source": [
    "import pandas as pd"
   ]
  },
  {
   "cell_type": "code",
   "execution_count": 2,
   "id": "a211b523-22bd-4afd-9cef-6376cd8d6430",
   "metadata": {},
   "outputs": [],
   "source": [
    "df = pd.read_csv(\"../../measurements/timeit_gt4py_269694.csv\")"
   ]
  },
  {
   "cell_type": "code",
   "execution_count": 3,
   "id": "3c802f45-dce3-4541-a6fc-cf3a276db39b",
   "metadata": {},
   "outputs": [
    {
     "data": {
      "text/html": [
       "<div>\n",
       "<style scoped>\n",
       "    .dataframe tbody tr th:only-of-type {\n",
       "        vertical-align: middle;\n",
       "    }\n",
       "\n",
       "    .dataframe tbody tr th {\n",
       "        vertical-align: top;\n",
       "    }\n",
       "\n",
       "    .dataframe thead th {\n",
       "        text-align: right;\n",
       "    }\n",
       "</style>\n",
       "<table border=\"1\" class=\"dataframe\">\n",
       "  <thead>\n",
       "    <tr style=\"text-align: right;\">\n",
       "      <th></th>\n",
       "      <th>Calls</th>\n",
       "      <th>Size</th>\n",
       "      <th>Time</th>\n",
       "    </tr>\n",
       "  </thead>\n",
       "  <tbody>\n",
       "    <tr>\n",
       "      <th>0</th>\n",
       "      <td>1</td>\n",
       "      <td>8</td>\n",
       "      <td>0.002176</td>\n",
       "    </tr>\n",
       "    <tr>\n",
       "      <th>1</th>\n",
       "      <td>1</td>\n",
       "      <td>32</td>\n",
       "      <td>0.002146</td>\n",
       "    </tr>\n",
       "    <tr>\n",
       "      <th>2</th>\n",
       "      <td>1</td>\n",
       "      <td>128</td>\n",
       "      <td>0.002151</td>\n",
       "    </tr>\n",
       "    <tr>\n",
       "      <th>3</th>\n",
       "      <td>1</td>\n",
       "      <td>512</td>\n",
       "      <td>0.002147</td>\n",
       "    </tr>\n",
       "    <tr>\n",
       "      <th>4</th>\n",
       "      <td>1</td>\n",
       "      <td>2048</td>\n",
       "      <td>0.002148</td>\n",
       "    </tr>\n",
       "    <tr>\n",
       "      <th>5</th>\n",
       "      <td>2</td>\n",
       "      <td>8</td>\n",
       "      <td>0.002309</td>\n",
       "    </tr>\n",
       "    <tr>\n",
       "      <th>6</th>\n",
       "      <td>2</td>\n",
       "      <td>32</td>\n",
       "      <td>0.002298</td>\n",
       "    </tr>\n",
       "    <tr>\n",
       "      <th>7</th>\n",
       "      <td>2</td>\n",
       "      <td>128</td>\n",
       "      <td>0.002294</td>\n",
       "    </tr>\n",
       "    <tr>\n",
       "      <th>8</th>\n",
       "      <td>2</td>\n",
       "      <td>512</td>\n",
       "      <td>0.002311</td>\n",
       "    </tr>\n",
       "    <tr>\n",
       "      <th>9</th>\n",
       "      <td>2</td>\n",
       "      <td>2048</td>\n",
       "      <td>0.002303</td>\n",
       "    </tr>\n",
       "    <tr>\n",
       "      <th>10</th>\n",
       "      <td>4</td>\n",
       "      <td>8</td>\n",
       "      <td>0.002625</td>\n",
       "    </tr>\n",
       "    <tr>\n",
       "      <th>11</th>\n",
       "      <td>4</td>\n",
       "      <td>32</td>\n",
       "      <td>0.002617</td>\n",
       "    </tr>\n",
       "    <tr>\n",
       "      <th>12</th>\n",
       "      <td>4</td>\n",
       "      <td>128</td>\n",
       "      <td>0.002614</td>\n",
       "    </tr>\n",
       "    <tr>\n",
       "      <th>13</th>\n",
       "      <td>4</td>\n",
       "      <td>512</td>\n",
       "      <td>0.002612</td>\n",
       "    </tr>\n",
       "    <tr>\n",
       "      <th>14</th>\n",
       "      <td>4</td>\n",
       "      <td>2048</td>\n",
       "      <td>0.002617</td>\n",
       "    </tr>\n",
       "    <tr>\n",
       "      <th>15</th>\n",
       "      <td>8</td>\n",
       "      <td>8</td>\n",
       "      <td>0.002742</td>\n",
       "    </tr>\n",
       "    <tr>\n",
       "      <th>16</th>\n",
       "      <td>8</td>\n",
       "      <td>32</td>\n",
       "      <td>0.002734</td>\n",
       "    </tr>\n",
       "    <tr>\n",
       "      <th>17</th>\n",
       "      <td>8</td>\n",
       "      <td>128</td>\n",
       "      <td>0.002725</td>\n",
       "    </tr>\n",
       "    <tr>\n",
       "      <th>18</th>\n",
       "      <td>8</td>\n",
       "      <td>512</td>\n",
       "      <td>0.002739</td>\n",
       "    </tr>\n",
       "    <tr>\n",
       "      <th>19</th>\n",
       "      <td>8</td>\n",
       "      <td>2048</td>\n",
       "      <td>0.002755</td>\n",
       "    </tr>\n",
       "  </tbody>\n",
       "</table>\n",
       "</div>"
      ],
      "text/plain": [
       "    Calls  Size      Time\n",
       "0       1     8  0.002176\n",
       "1       1    32  0.002146\n",
       "2       1   128  0.002151\n",
       "3       1   512  0.002147\n",
       "4       1  2048  0.002148\n",
       "5       2     8  0.002309\n",
       "6       2    32  0.002298\n",
       "7       2   128  0.002294\n",
       "8       2   512  0.002311\n",
       "9       2  2048  0.002303\n",
       "10      4     8  0.002625\n",
       "11      4    32  0.002617\n",
       "12      4   128  0.002614\n",
       "13      4   512  0.002612\n",
       "14      4  2048  0.002617\n",
       "15      8     8  0.002742\n",
       "16      8    32  0.002734\n",
       "17      8   128  0.002725\n",
       "18      8   512  0.002739\n",
       "19      8  2048  0.002755"
      ]
     },
     "execution_count": 3,
     "metadata": {},
     "output_type": "execute_result"
    }
   ],
   "source": [
    "df"
   ]
  },
  {
   "cell_type": "code",
   "execution_count": 4,
   "id": "e3231c92-1a28-424e-bb80-19aa3ea61a0f",
   "metadata": {},
   "outputs": [],
   "source": [
    "import os"
   ]
  },
  {
   "cell_type": "code",
   "execution_count": 5,
   "id": "3083f7c5-53a0-4bcd-a8e8-5d852363f472",
   "metadata": {},
   "outputs": [
    {
     "data": {
      "text/plain": [
       "'/users/class182/project-overlapping/src/gt4py'"
      ]
     },
     "execution_count": 5,
     "metadata": {},
     "output_type": "execute_result"
    }
   ],
   "source": [
    "os.getcwd()"
   ]
  },
  {
   "cell_type": "code",
   "execution_count": 6,
   "id": "992093af-a3e3-4d45-b35f-2a81fcdcd7bb",
   "metadata": {},
   "outputs": [
    {
     "name": "stdout",
     "output_type": "stream",
     "text": [
      "None\n"
     ]
    }
   ],
   "source": [
    "value = os.environ.get(\"MY_VAR\")\n",
    "print(value)  # Prints 'my_value' if set, or None if not set\n"
   ]
  },
  {
   "cell_type": "code",
   "execution_count": 7,
   "id": "ae596f1b-d7b4-488c-9485-998c02fba213",
   "metadata": {},
   "outputs": [
    {
     "name": "stdout",
     "output_type": "stream",
     "text": [
      "No value\n"
     ]
    }
   ],
   "source": [
    "if value is None:\n",
    "    print(\"No value\")"
   ]
  },
  {
   "cell_type": "code",
   "execution_count": 5,
   "id": "a79c1f72-6399-4731-9f97-045fd5d4bd30",
   "metadata": {},
   "outputs": [],
   "source": [
    "import numpy as np"
   ]
  },
  {
   "cell_type": "code",
   "execution_count": 9,
   "id": "d0d7473a-9b02-44cc-a07a-973899d498ed",
   "metadata": {},
   "outputs": [],
   "source": [
    "res = np.arange(24).reshape(2,4,3)"
   ]
  },
  {
   "cell_type": "code",
   "execution_count": 10,
   "id": "99caa0d9-6465-4591-918b-3b3a06c0ab50",
   "metadata": {},
   "outputs": [
    {
     "data": {
      "text/plain": [
       "array([[ 0,  1,  2],\n",
       "       [ 3,  4,  5],\n",
       "       [ 6,  7,  8],\n",
       "       [ 9, 10, 11],\n",
       "       [12, 13, 14],\n",
       "       [15, 16, 17],\n",
       "       [18, 19, 20],\n",
       "       [21, 22, 23]])"
      ]
     },
     "execution_count": 10,
     "metadata": {},
     "output_type": "execute_result"
    }
   ],
   "source": [
    "res.reshape(-1,3)"
   ]
  },
  {
   "cell_type": "code",
   "execution_count": 11,
   "id": "61066909-75c1-4ed5-ba0a-1a4a06aadde6",
   "metadata": {},
   "outputs": [
    {
     "data": {
      "text/plain": [
       "array([[[ 0,  1,  2],\n",
       "        [ 3,  4,  5],\n",
       "        [ 6,  7,  8],\n",
       "        [ 9, 10, 11]],\n",
       "\n",
       "       [[12, 13, 14],\n",
       "        [15, 16, 17],\n",
       "        [18, 19, 20],\n",
       "        [21, 22, 23]]])"
      ]
     },
     "execution_count": 11,
     "metadata": {},
     "output_type": "execute_result"
    }
   ],
   "source": [
    "res"
   ]
  },
  {
   "cell_type": "code",
   "execution_count": 12,
   "id": "faa60fcb-a6ba-4553-9f57-f4f001dc632f",
   "metadata": {},
   "outputs": [
    {
     "data": {
      "text/plain": [
       "array([[ 0,  1,  2],\n",
       "       [ 3,  4,  5],\n",
       "       [ 6,  7,  8],\n",
       "       [ 9, 10, 11],\n",
       "       [12, 13, 14],\n",
       "       [15, 16, 17],\n",
       "       [18, 19, 20],\n",
       "       [21, 22, 23]])"
      ]
     },
     "execution_count": 12,
     "metadata": {},
     "output_type": "execute_result"
    }
   ],
   "source": [
    "res.reshape(8,3)"
   ]
  },
  {
   "cell_type": "code",
   "execution_count": 13,
   "id": "ce70270c-2ca5-4ee8-bbea-cd711f7d73a8",
   "metadata": {},
   "outputs": [
    {
     "data": {
      "text/plain": [
       "array([ 3,  5,  7,  9, 11, 13, 15, 17, 19, 21, 23, 25, 27, 29])"
      ]
     },
     "execution_count": 13,
     "metadata": {},
     "output_type": "execute_result"
    }
   ],
   "source": [
    "np.arange(3,30,2)"
   ]
  },
  {
   "cell_type": "code",
   "execution_count": 6,
   "id": "dc7fbdf1-5f4d-4f50-aea2-f482ec4009ee",
   "metadata": {},
   "outputs": [],
   "source": [
    "import os\n",
    "import gt4py.next as gtx\n",
    "from gt4py.next import broadcast\n",
    "from gt4py.next.ffront.fbuiltins import arccos\n",
    "import numpy as np"
   ]
  },
  {
   "cell_type": "code",
   "execution_count": 7,
   "id": "c08d9742-9602-4dbf-8729-d2b7b83c421c",
   "metadata": {},
   "outputs": [],
   "source": [
    "# gt4py_prog_path = os.getcwd()\n",
    "# ref_data_path = \"/\".join(gt4py_prog_path.split(\"/\")[:-2] + [\"build\", \"data\", \"ref_data.npz\"])"
   ]
  },
  {
   "cell_type": "code",
   "execution_count": 8,
   "id": "2dc06c2d-9b46-4949-8e2e-9de5748492b7",
   "metadata": {},
   "outputs": [],
   "source": [
    "# file = np.load(ref_data_path)"
   ]
  },
  {
   "cell_type": "code",
   "execution_count": 9,
   "id": "c411e84c-ac0f-4b8e-9e16-2c7528bc33e1",
   "metadata": {},
   "outputs": [],
   "source": [
    "I = gtx.Dimension(\"I\")\n",
    "J = gtx.Dimension(\"J\")\n",
    "K = gtx.Dimension(\"K\")\n",
    "IField = gtx.Field[gtx.Dims[I], gtx.float64]\n",
    "IJKField = gtx.Field[gtx.Dims[I, J, K], gtx.float64]"
   ]
  },
  {
   "cell_type": "code",
   "execution_count": 10,
   "id": "4c2bc55a-a7e5-4f53-ac3f-e2d21ebeebda",
   "metadata": {},
   "outputs": [],
   "source": [
    "n_max = 1e8\n",
    "x_np = 2 * np.random.rand(int(n_max)) - 1\n",
    "\n",
    "two_by_pi = 2 / np.pi\n",
    "arccos_rescaled_np = lambda x: two_by_pi * np.arccos(x) - 1\n",
    "ref_np = arccos_rescaled_np(arccos_rescaled_np(arccos_rescaled_np(arccos_rescaled_np(x_np))))"
   ]
  },
  {
   "cell_type": "code",
   "execution_count": 11,
   "id": "dbc33745-def9-4bb0-92d1-b9cbc168acf5",
   "metadata": {},
   "outputs": [
    {
     "data": {
      "text/plain": [
       "array([-0.2126249 ,  0.04793858,  0.13170644, ..., -0.09096883,\n",
       "        0.08538923,  0.04661973], shape=(100000000,))"
      ]
     },
     "metadata": {},
     "output_type": "display_data"
    },
    {
     "data": {
      "text/plain": [
       "array([-0.89007731,  0.28522342,  0.68195818, ..., -0.51099381,\n",
       "        0.48410924,  0.27771911], shape=(100000000,))"
      ]
     },
     "metadata": {},
     "output_type": "display_data"
    }
   ],
   "source": [
    "# ref_np = file[\"ref\"]\n",
    "# x_np = file[\"x\"]\n",
    "display(ref_np, x_np)\n",
    "\n",
    "assert(len(x_np.shape) == 1)\n",
    "domain_all = gtx.domain({\n",
    "    I: (0, x_np.shape[0]),\n",
    "})"
   ]
  },
  {
   "cell_type": "code",
   "execution_count": 12,
   "id": "97c429fd-6a08-4f42-886a-e57e00f1ddb1",
   "metadata": {},
   "outputs": [],
   "source": [
    "@gtx.field_operator\n",
    "def arccos_once(x: IField) -> IField:\n",
    "    return arccos(x)\n",
    "\n",
    "###\n",
    "\n",
    "@gtx.field_operator # 2^0\n",
    "def arccos_rescaled(x: IField) -> IField:\n",
    "    res = broadcast(2.0 / 3.141592653589793, (I,)) * arccos(x) - broadcast(1.0, (I,))\n",
    "    return res\n",
    "\n",
    "@gtx.field_operator # 2^1\n",
    "def arccos_twice(x: IField) -> IField:\n",
    "    return arccos_rescaled(arccos_rescaled(x))\n",
    "\n",
    "@gtx.field_operator # 2^2\n",
    "def arccos_four_times(x: IField) -> IField:\n",
    "    return arccos_rescaled(arccos_rescaled(arccos_rescaled(arccos_rescaled(x))))"
   ]
  },
  {
   "cell_type": "code",
   "execution_count": 13,
   "id": "2a839fb7-4c4a-4343-b12c-c779ba3e9731",
   "metadata": {},
   "outputs": [],
   "source": [
    "# dir(gtx)\n"
   ]
  },
  {
   "cell_type": "code",
   "execution_count": 14,
   "id": "b91332f4-5e85-45d5-ae75-ce465cb19c47",
   "metadata": {},
   "outputs": [
    {
     "data": {
      "text/plain": [
       "dtype('float64')"
      ]
     },
     "execution_count": 14,
     "metadata": {},
     "output_type": "execute_result"
    }
   ],
   "source": [
    "np.random.rand(8).dtype"
   ]
  },
  {
   "cell_type": "code",
   "execution_count": 15,
   "id": "c50154cf-caa0-4b84-8304-7ec76e53abce",
   "metadata": {},
   "outputs": [],
   "source": [
    "# backend = None\n",
    "# backend = gtx.gtfn_cpu\n",
    "backend = gtx.gtfn_gpu\n",
    "# gtx_arccos = arccos_once.with_backend(backend)\n",
    "gtx_4arcosc = arccos_four_times.with_backend(backend)\n",
    "\n",
    "ref = gtx.as_field(data=ref_np, domain=domain_all, allocator=backend)\n",
    "x = gtx.as_field(data=x_np, domain=domain_all, allocator=backend)\n",
    "\n",
    "out_field = gtx.empty(domain=domain_all, dtype=x.dtype, allocator=backend)"
   ]
  },
  {
   "cell_type": "code",
   "execution_count": 16,
   "id": "1c166205-1922-44c0-a3d6-93653b5a05e3",
   "metadata": {},
   "outputs": [
    {
     "name": "stdout",
     "output_type": "stream",
     "text": [
      "3.1 ms ± 311 μs per loop (mean ± std. dev. of 7 runs, 1 loop each)\n"
     ]
    }
   ],
   "source": [
    "%timeit gtx_4arcosc(x=x, out=out_field, domain=domain_all)"
   ]
  },
  {
   "cell_type": "code",
   "execution_count": 17,
   "id": "3acd409e-7c1b-449e-993e-ef3f5009db49",
   "metadata": {},
   "outputs": [
    {
     "data": {
      "text/plain": [
       "array([False, False, False, ..., False, False, False], shape=(100000000,))"
      ]
     },
     "execution_count": 17,
     "metadata": {},
     "output_type": "execute_result"
    }
   ],
   "source": [
    "ref_np == out_field.asnumpy()"
   ]
  },
  {
   "cell_type": "code",
   "execution_count": 18,
   "id": "df756a8b-1e34-476c-9a4b-24f7fd55d763",
   "metadata": {},
   "outputs": [
    {
     "data": {
      "text/plain": [
       "np.False_"
      ]
     },
     "execution_count": 18,
     "metadata": {},
     "output_type": "execute_result"
    }
   ],
   "source": [
    "np.all(ref_np == out_field.asnumpy())"
   ]
  },
  {
   "cell_type": "code",
   "execution_count": 19,
   "id": "3e53ba79-4f18-40ea-bf49-d20b37e3ceee",
   "metadata": {},
   "outputs": [
    {
     "data": {
      "text/plain": [
       "np.True_"
      ]
     },
     "execution_count": 19,
     "metadata": {},
     "output_type": "execute_result"
    }
   ],
   "source": [
    "np.isclose(ref_np, out_field.asnumpy()).all()"
   ]
  },
  {
   "cell_type": "code",
   "execution_count": 20,
   "id": "e987a6a0-e1bb-4673-9613-09af2d1ed213",
   "metadata": {},
   "outputs": [],
   "source": [
    "# backend = None\n",
    "backend = gtx.gtfn_cpu\n",
    "# backend = gtx.gtfn_gpu\n",
    "gtx_4arcosc_cpu = arccos_four_times.with_backend(gtx.gtfn_cpu)\n",
    "gtx_4arcosc_gpu = arccos_four_times.with_backend(gtx.gtfn_gpu)\n",
    "\n",
    "x_cpu = gtx.as_field(data=x_np, domain=domain_all, allocator=gtx.gtfn_cpu)\n",
    "x_gpu = gtx.as_field(data=x_np, domain=domain_all, allocator=gtx.gtfn_gpu)\n",
    "out_field_cpu = gtx.empty(domain=domain_all, dtype=x.dtype, allocator=gtx.gtfn_cpu)\n",
    "out_field_gpu = gtx.empty(domain=domain_all, dtype=x.dtype, allocator=gtx.gtfn_gpu)"
   ]
  },
  {
   "cell_type": "code",
   "execution_count": 21,
   "id": "ee40e024-312f-47e9-bb0f-be2794c43883",
   "metadata": {},
   "outputs": [
    {
     "name": "stdout",
     "output_type": "stream",
     "text": [
      "34.8 ms ± 6.76 ms per loop (mean ± std. dev. of 7 runs, 1 loop each)\n"
     ]
    }
   ],
   "source": [
    "%timeit gtx_4arcosc_cpu(x=x_cpu, out=out_field_cpu, domain=domain_all)"
   ]
  },
  {
   "cell_type": "code",
   "execution_count": 22,
   "id": "6ec476c7-784b-4b51-8755-4dbd9ce573fc",
   "metadata": {},
   "outputs": [
    {
     "name": "stdout",
     "output_type": "stream",
     "text": [
      "3.13 ms ± 21.2 μs per loop (mean ± std. dev. of 7 runs, 100 loops each)\n"
     ]
    }
   ],
   "source": [
    "%timeit gtx_4arcosc_gpu(x=x_gpu, out=out_field_gpu, domain=domain_all)"
   ]
  },
  {
   "cell_type": "code",
   "execution_count": 23,
   "id": "45053653-d410-46a0-a046-e7c468c18a99",
   "metadata": {},
   "outputs": [
    {
     "name": "stdout",
     "output_type": "stream",
     "text": [
      "Average time per run: 0.003197 seconds\n"
     ]
    }
   ],
   "source": [
    "import timeit\n",
    "n_reps = 100\n",
    "execution_time = timeit.timeit(\"gtx_4arcosc_gpu(x=x_gpu, out=out_field_gpu, domain=domain_all)\", globals=globals(), number=n_reps)\n",
    "print(f\"Average time per run: {execution_time / n_reps:.6f} seconds\")"
   ]
  },
  {
   "cell_type": "code",
   "execution_count": 24,
   "id": "f8f5fb62-9bf9-4236-8d99-85087285fb1d",
   "metadata": {},
   "outputs": [
    {
     "name": "stdout",
     "output_type": "stream",
     "text": [
      "Average time per run: 0.003170 seconds\n"
     ]
    }
   ],
   "source": [
    "import timeit\n",
    "number = 100 # inner loop reps\n",
    "repeats = 10 # timings (outer loop)\n",
    "times = timeit.repeat(\"gtx_4arcosc_gpu(x=x_gpu, out=out_field_gpu, domain=domain_all)\", globals=globals(), repeat=repeats, number=number)\n",
    "mean_time, std_time = np.mean(times), np.std(times)\n",
    "print(f\"Average time per run: {mean_time / number:.6f} seconds\")"
   ]
  },
  {
   "cell_type": "code",
   "execution_count": null,
   "id": "1fb1c19e-1046-4331-813d-1a417d16b0fb",
   "metadata": {},
   "outputs": [],
   "source": []
  },
  {
   "cell_type": "code",
   "execution_count": 28,
   "id": "7a3f01d1-b507-4f7b-8094-f356229b9aa0",
   "metadata": {},
   "outputs": [],
   "source": [
    "import timeit\n",
    "import statistics\n",
    "import cupy as cp  # Required for GPU sync\n",
    "\n",
    "def gt4py_timeit(func, *args, number=10, repeat=5, warm_up=1, synchronize=True, **kwargs):\n",
    "    \"\"\"\n",
    "    Time a GT4Py function with optional GPU synchronization.\n",
    "    \n",
    "    Args:\n",
    "        func: Function to time.\n",
    "        *args, **kwargs: Arguments to pass to the function.\n",
    "        number: How many executions per timing batch.\n",
    "        repeat: How many timing batches.\n",
    "        synchronize: If True, synchronize GPU before/after timing.\n",
    "\n",
    "    Returns:\n",
    "        mean_time_per_exec: Mean execution time (seconds).\n",
    "        std_time_per_exec: Standard deviation (seconds).\n",
    "        all_times: List of per-execution times (seconds).\n",
    "    \"\"\"\n",
    "    times = []\n",
    "\n",
    "    for _ in range(repeat + warm_up):\n",
    "        if synchronize:\n",
    "            cp.cuda.Device(0).synchronize()\n",
    "\n",
    "        start = timeit.default_timer()\n",
    "\n",
    "        for _ in range(number):\n",
    "            func(*args, **kwargs)\n",
    "\n",
    "        if synchronize:\n",
    "            cp.cuda.Device(0).synchronize()\n",
    "\n",
    "        end = timeit.default_timer()\n",
    "        times.append((end - start) / number)  # Per-execution time\n",
    "\n",
    "    for k in range(warm_up):\n",
    "        print(\"    \", times[k])\n",
    "    times = times[warm_up:]\n",
    "    mean_time = np.mean(times)\n",
    "    std_time = np.std(times)\n",
    "\n",
    "    print(f\"{func.__name__} mean time per execution: {mean_time:.6e} s ± {std_time:.6e} s over {repeat} repeats with {warm_up} warmups\")\n",
    "\n",
    "    return mean_time, std_time, times\n"
   ]
  },
  {
   "cell_type": "code",
   "execution_count": 29,
   "id": "3f9989f4-1287-4ef5-9525-71e7cd2d9a63",
   "metadata": {},
   "outputs": [
    {
     "name": "stdout",
     "output_type": "stream",
     "text": [
      "     0.0032729881100021885\n",
      "arccos_four_times mean time per execution: 3.219137e-03 s ± 8.199510e-06 s over 10 repeats with 1 warmups\n"
     ]
    },
    {
     "data": {
      "text/plain": [
       "(np.float64(0.0032191365610015053),\n",
       " np.float64(8.19950985000852e-06),\n",
       " [0.003217868930005352,\n",
       "  0.0032195104700076626,\n",
       "  0.0032086868100122956,\n",
       "  0.003215228370008845,\n",
       "  0.0032077297199975875,\n",
       "  0.0032230844399964553,\n",
       "  0.003222750049990282,\n",
       "  0.0032209206599873143,\n",
       "  0.0032169697500103213,\n",
       "  0.00323861640999894])"
      ]
     },
     "execution_count": 29,
     "metadata": {},
     "output_type": "execute_result"
    }
   ],
   "source": [
    "gt4py_timeit(gtx_4arcosc_gpu, number=number, repeat=repeats, warm_up=1, synchronize=True, x=x_gpu, out=out_field_gpu, domain=domain_all)\n"
   ]
  },
  {
   "cell_type": "code",
   "execution_count": 27,
   "id": "6f7b98ff-b143-4774-a1ef-1f4c75008fad",
   "metadata": {},
   "outputs": [
    {
     "name": "stdout",
     "output_type": "stream",
     "text": [
      "     0.003259036260005814\n",
      "arccos_four_times mean time per execution: 3.203960e-03 s ± 6.854653e-06 s over 10 repeats with 1 warmups\n"
     ]
    },
    {
     "data": {
      "text/plain": [
       "(np.float64(0.0032039603140019608),\n",
       " np.float64(6.854652866948029e-06),\n",
       " [0.0032063067600029173,\n",
       "  0.003197313140008191,\n",
       "  0.0032051416900139885,\n",
       "  0.0031969649900020158,\n",
       "  0.003197736160000204,\n",
       "  0.0032157403800010796,\n",
       "  0.0032027894500060937,\n",
       "  0.003207083049983339,\n",
       "  0.003214692740002647,\n",
       "  0.0031958347799991315])"
      ]
     },
     "execution_count": 27,
     "metadata": {},
     "output_type": "execute_result"
    }
   ],
   "source": [
    "gt4py_timeit(gtx_4arcosc_gpu, number=number, repeat=repeats, warm_up=1, synchronize=False, x=x_gpu, out=out_field_gpu, domain=domain_all)\n"
   ]
  },
  {
   "cell_type": "code",
   "execution_count": null,
   "id": "ae0e0038-aaad-4f58-832e-b2d7a9eea2c2",
   "metadata": {},
   "outputs": [],
   "source": []
  },
  {
   "cell_type": "code",
   "execution_count": 30,
   "id": "66a1fe79-4382-479d-9617-9528feb16bf4",
   "metadata": {},
   "outputs": [],
   "source": [
    "import time\n",
    "import cupy as cp"
   ]
  },
  {
   "cell_type": "code",
   "execution_count": 33,
   "id": "f138e812-8fd0-4104-8a53-69dad0e07511",
   "metadata": {},
   "outputs": [],
   "source": [
    "# time manually:\n",
    "tic = time.perf_counter()\n",
    "gtx_4arcosc_gpu(x=x_gpu, out=out_field_gpu, domain=domain_all)\n",
    "# gtx_arccos_gpu(x=x_gpu, out=out_field_gpu, domain=domain_all)\n",
    "cp.cuda.runtime.deviceSynchronize()\n",
    "toc = time.perf_counter()"
   ]
  },
  {
   "cell_type": "code",
   "execution_count": 34,
   "id": "14938d66-55fa-4d7f-9e58-3ef47405d2a1",
   "metadata": {},
   "outputs": [
    {
     "data": {
      "text/plain": [
       "0.007939551000163192"
      ]
     },
     "execution_count": 34,
     "metadata": {},
     "output_type": "execute_result"
    }
   ],
   "source": [
    "toc-tic"
   ]
  },
  {
   "cell_type": "code",
   "execution_count": null,
   "id": "1ca8d559-ed2f-40a6-ab11-dbee1456e05a",
   "metadata": {},
   "outputs": [],
   "source": []
  },
  {
   "cell_type": "code",
   "execution_count": null,
   "id": "645f59e6-f85a-4cc8-8ed6-f4091421032a",
   "metadata": {},
   "outputs": [],
   "source": []
  },
  {
   "cell_type": "code",
   "execution_count": null,
   "id": "995d2855-beaa-4293-b179-7e9d2c38c06b",
   "metadata": {},
   "outputs": [],
   "source": []
  },
  {
   "cell_type": "code",
   "execution_count": 1,
   "id": "426dfb53-c3dc-4d68-b8b4-46fa15dc4a91",
   "metadata": {},
   "outputs": [
    {
     "data": {
      "text/plain": [
       "'/users/class182/project-overlapping/src/gt4py'"
      ]
     },
     "execution_count": 1,
     "metadata": {},
     "output_type": "execute_result"
    }
   ],
   "source": [
    "import os\n",
    "os.getcwd()"
   ]
  },
  {
   "cell_type": "code",
   "execution_count": 2,
   "id": "d107bed3-bc4e-4bbb-94d7-ee029da1b2cb",
   "metadata": {},
   "outputs": [
    {
     "data": {
      "text/plain": [
       "['.gt4py_cache',\n",
       " '.ipynb_checkpoints',\n",
       " 'TEMP_arccos.ipynb',\n",
       " '__pycache__',\n",
       " 'arccos_gt4py.py',\n",
       " 'run_arccos_gt4py.py',\n",
       " 'run_arccos_gt4py.sh']"
      ]
     },
     "execution_count": 2,
     "metadata": {},
     "output_type": "execute_result"
    }
   ],
   "source": [
    "os.listdir()"
   ]
  },
  {
   "cell_type": "code",
   "execution_count": 6,
   "id": "132ceba9-1821-44cd-a6f9-bc0375281e87",
   "metadata": {},
   "outputs": [
    {
     "data": {
      "text/plain": [
       "['.gt4py_cache',\n",
       " '.ipynb_checkpoints',\n",
       " 'TEMP_arccos.ipynb',\n",
       " '__pycache__',\n",
       " 'arccos_gt4py.py',\n",
       " 'run_arccos_gt4py.py',\n",
       " 'run_arccos_gt4py.sh']"
      ]
     },
     "execution_count": 6,
     "metadata": {},
     "output_type": "execute_result"
    }
   ],
   "source": [
    "os.listdir(\"../../build/gt4py/\")"
   ]
  },
  {
   "cell_type": "code",
   "execution_count": 7,
   "id": "3af22942-80ad-4947-bedb-00a77fcc2409",
   "metadata": {},
   "outputs": [
    {
     "data": {
      "text/plain": [
       "True"
      ]
     },
     "execution_count": 7,
     "metadata": {},
     "output_type": "execute_result"
    }
   ],
   "source": [
    "os.path.isfile(\"../../build/gt4py/run_arccos_gt4py.py\")"
   ]
  },
  {
   "cell_type": "code",
   "execution_count": 28,
   "id": "cf97b57c-48e0-401e-b631-751cd47eacc9",
   "metadata": {},
   "outputs": [
    {
     "name": "stdout",
     "output_type": "stream",
     "text": [
      "allocators \n",
      "backend \n",
      "common \n",
      "config \n",
      "constructors \n",
      "embedded (package)\n",
      "errors (package)\n",
      "ffront (package)\n",
      "field_utils \n",
      "iterator (package)\n",
      "metrics \n",
      "otf (package)\n",
      "program_processors (package)\n",
      "type_system (package)\n",
      "utils \n"
     ]
    }
   ],
   "source": [
    "import pkgutil\n",
    "import gt4py\n",
    "\n",
    "for loader, module_name, is_pkg in pkgutil.iter_modules(gt4py.next.__path__):\n",
    "    print(f\"{module_name} {'(package)' if is_pkg else ''}\")\n"
   ]
  },
  {
   "cell_type": "code",
   "execution_count": null,
   "id": "f6a3f9c4-429b-4d2d-afe3-7698ac346a8d",
   "metadata": {},
   "outputs": [],
   "source": []
  },
  {
   "cell_type": "code",
   "execution_count": 41,
   "id": "5c380642-e057-4136-89e7-20892fd91760",
   "metadata": {},
   "outputs": [],
   "source": [
    "# Test time_arccos without transfer back and forth to gpu\n",
    "from arccos_gt4py import time_arccos"
   ]
  },
  {
   "cell_type": "code",
   "execution_count": 42,
   "id": "68b4726a-7824-4c10-979a-7a675a8c2f1e",
   "metadata": {},
   "outputs": [
    {
     "name": "stdout",
     "output_type": "stream",
     "text": [
      "### 4 128 -1 0.17052842390003206\n"
     ]
    },
    {
     "data": {
      "text/plain": [
       "(4, 128, np.float64(0.17052842390003206))"
      ]
     },
     "execution_count": 42,
     "metadata": {},
     "output_type": "execute_result"
    }
   ],
   "source": [
    "time_arccos(4, 128, number=1, repeats=10, do_print=True, incl_transfer=True)"
   ]
  },
  {
   "cell_type": "code",
   "execution_count": 43,
   "id": "bd75fee8-fd9d-4fed-99c7-f94bacb7278b",
   "metadata": {},
   "outputs": [
    {
     "name": "stdout",
     "output_type": "stream",
     "text": [
      "### 4 128 -1 0.004496450499573257\n"
     ]
    },
    {
     "data": {
      "text/plain": [
       "(4, 128, np.float64(0.004496450499573257))"
      ]
     },
     "execution_count": 43,
     "metadata": {},
     "output_type": "execute_result"
    }
   ],
   "source": [
    "time_arccos(4, 128, number=1, repeats=10, do_print=True, incl_transfer=False)"
   ]
  },
  {
   "cell_type": "code",
   "execution_count": null,
   "id": "3312f752-2037-4cde-8991-2efb640f85ad",
   "metadata": {},
   "outputs": [],
   "source": []
  }
 ],
 "metadata": {
  "kernelspec": {
   "display_name": "HPC4WC_kernel",
   "language": "python",
   "name": "hpc4wc_kernel"
  },
  "language_info": {
   "codemirror_mode": {
    "name": "ipython",
    "version": 3
   },
   "file_extension": ".py",
   "mimetype": "text/x-python",
   "name": "python",
   "nbconvert_exporter": "python",
   "pygments_lexer": "ipython3",
   "version": "3.12.5"
  }
 },
 "nbformat": 4,
 "nbformat_minor": 5
}
